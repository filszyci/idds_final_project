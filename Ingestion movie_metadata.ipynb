{
 "cells": [
  {
   "cell_type": "code",
   "execution_count": 1,
   "id": "f4514539",
   "metadata": {
    "scrolled": true
   },
   "outputs": [],
   "source": [
    "import pandas as pd\n",
    "import json\n",
    "import ast\n",
    "import configparser\n",
    "import pymysql"
   ]
  },
  {
   "cell_type": "code",
   "execution_count": 2,
   "id": "c54dd1b9",
   "metadata": {},
   "outputs": [],
   "source": [
    "def pipeline(path):\n",
    "    \"\"\"\n",
    "    Function performs required steps to:\n",
    "    1) clean dataframe\n",
    "    2) add ingestion timestamp column\n",
    "    3) prepare dataframe data to insert to MySQL database\n",
    "    \"\"\"\n",
    "    df = pd.read_csv(path)\n",
    "    df.fillna('', inplace=True)\n",
    "    df[\"ingestion_ts\"] = pd.to_datetime(pd.Timestamp.today())\n",
    "    df = df.values.tolist()\n",
    "    \n",
    "    return df"
   ]
  },
  {
   "cell_type": "code",
   "execution_count": 3,
   "id": "d4410511",
   "metadata": {
    "scrolled": true
   },
   "outputs": [
    {
     "name": "stderr",
     "output_type": "stream",
     "text": [
      "C:\\Users\\filip\\AppData\\Local\\Temp\\ipykernel_19564\\335438241.py:8: DtypeWarning: Columns (8) have mixed types. Specify dtype option on import or set low_memory=False.\n",
      "  df = pd.read_csv(path)\n"
     ]
    }
   ],
   "source": [
    "path = 'data/ready_for_ingestion/movies_metadata.csv'\n",
    "movies_metadata_to_insert = pipeline(path)"
   ]
  },
  {
   "cell_type": "code",
   "execution_count": 7,
   "id": "87099e57",
   "metadata": {},
   "outputs": [
    {
     "name": "stdout",
     "output_type": "stream",
     "text": [
      "Successfully connected to MySQL.\n"
     ]
    }
   ],
   "source": [
    "parser = configparser.ConfigParser()\n",
    "parser.read(\"config\\mysql.conf\")\n",
    "hostname = parser.get(\"mysql_config\", \"hostname\")\n",
    "username = parser.get(\"mysql_config\", \"username\")\n",
    "password = parser.get(\"mysql_config\", \"password\")\n",
    "dbname = parser.get(\"mysql_config\", \"database\")\n",
    "port = parser.get(\"mysql_config\", \"port\")\n",
    "\n",
    "conn = pymysql.connect(\n",
    "    host=hostname,\n",
    "    user=username,\n",
    "    password=password,\n",
    "    db=dbname,\n",
    "    port=int(port)\n",
    ")\n",
    "\n",
    "if conn is None:\n",
    "    print(\"Error. Connection to MySQL cannot be established.\")\n",
    "else:\n",
    "    print(\"Successfully connected to MySQL.\")\n",
    "\n",
    "cur = conn.cursor()"
   ]
  },
  {
   "cell_type": "code",
   "execution_count": 8,
   "id": "175cc57c",
   "metadata": {},
   "outputs": [],
   "source": [
    "create_table = \"\"\"\n",
    "CREATE TABLE IF NOT EXISTS movies_raw.movies_metadata (\n",
    "    adult BINARY, \n",
    "    budget INT, \n",
    "    homepage VARCHAR(65535), \n",
    "    movie_id INT, \n",
    "    imdb_id VARCHAR(255), \n",
    "    original_language VARCHAR(2),\n",
    "    original_title VARCHAR(255), \n",
    "    overview VARCHAR(65535), \n",
    "    popularity FLOAT, \n",
    "    poster_path VARCHAR(65535),\n",
    "    release_date DATE, \n",
    "    revenue INT, \n",
    "    runtime INT, \n",
    "    status VARCHAR(50), \n",
    "    tagline VARCHAR(65535), \n",
    "    title VARCHAR(255),\n",
    "    video BINARY, \n",
    "    vote_average FLOAT, \n",
    "    vote_count INT,\n",
    "    ingestion_ts TIMESTAMP\n",
    ");\n",
    "\"\"\"\n",
    "\n",
    "insert_query = \"\"\"\n",
    "INSERT INTO movies_raw.movies_metadata (adult, budget, homepage, movie_id, imdb_id, original_language,\n",
    "       original_title, overview, popularity, poster_path,\n",
    "       release_date, revenue, runtime, status, tagline, title,\n",
    "       video, vote_average, vote_count, ingestion_ts)\n",
    "VALUES (%s, %s, %s, %s, %s, %s, %s, %s, %s, %s, %s, %s, %s, %s, %s, %s, %s, %s, %s, %s);\n",
    "\"\"\""
   ]
  },
  {
   "cell_type": "code",
   "execution_count": 9,
   "id": "c463e0ef",
   "metadata": {},
   "outputs": [
    {
     "data": {
      "text/plain": [
       "0"
      ]
     },
     "execution_count": 9,
     "metadata": {},
     "output_type": "execute_result"
    }
   ],
   "source": [
    "cur.execute(create_table)"
   ]
  },
  {
   "cell_type": "code",
   "execution_count": 10,
   "id": "7a441179",
   "metadata": {},
   "outputs": [],
   "source": [
    "# Wstawienie danych do tabeli\n",
    "cur.executemany(insert_query, movies_metadata_to_insert)\n",
    "\n",
    "# Zatwierdzenie zmian w bazie danych\n",
    "conn.commit()\n",
    "\n",
    "# Zamknięcie kursora i połączenia\n",
    "cur.close()\n",
    "conn.close()"
   ]
  }
 ],
 "metadata": {
  "kernelspec": {
   "display_name": "Python 3 (ipykernel)",
   "language": "python",
   "name": "python3"
  },
  "language_info": {
   "codemirror_mode": {
    "name": "ipython",
    "version": 3
   },
   "file_extension": ".py",
   "mimetype": "text/x-python",
   "name": "python",
   "nbconvert_exporter": "python",
   "pygments_lexer": "ipython3",
   "version": "3.8.19"
  }
 },
 "nbformat": 4,
 "nbformat_minor": 5
}
