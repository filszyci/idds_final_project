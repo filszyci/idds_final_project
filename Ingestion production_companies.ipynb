{
 "cells": [
  {
   "cell_type": "code",
   "execution_count": 1,
   "id": "f4514539",
   "metadata": {
    "scrolled": true
   },
   "outputs": [],
   "source": [
    "import pandas as pd\n",
    "import json\n",
    "import ast\n",
    "import configparser\n",
    "import pymysql"
   ]
  },
  {
   "cell_type": "code",
   "execution_count": 2,
   "id": "c54dd1b9",
   "metadata": {},
   "outputs": [],
   "source": [
    "def pipeline(path):\n",
    "    \"\"\"\n",
    "    Function performs required steps to:\n",
    "    1) clean dataframe\n",
    "    2) add ingestion timestamp column\n",
    "    3) prepare dataframe data to insert to MySQL database\n",
    "    \"\"\"\n",
    "    df = pd.read_csv(path)\n",
    "    df.fillna('', inplace=True)\n",
    "    df[\"ingestion_ts\"] = pd.to_datetime(pd.Timestamp.today())\n",
    "    df = df.values.tolist()\n",
    "    \n",
    "    return df"
   ]
  },
  {
   "cell_type": "code",
   "execution_count": 3,
   "id": "d4410511",
   "metadata": {
    "scrolled": true
   },
   "outputs": [],
   "source": [
    "path = 'data/ready_for_ingestion/production_companies.csv'\n",
    "production_companies_to_insert = pipeline(path)"
   ]
  },
  {
   "cell_type": "code",
   "execution_count": 7,
   "id": "87099e57",
   "metadata": {},
   "outputs": [
    {
     "name": "stdout",
     "output_type": "stream",
     "text": [
      "Successfully connected to MySQL.\n"
     ]
    }
   ],
   "source": [
    "parser = configparser.ConfigParser()\n",
    "parser.read(\"config\\mysql.conf\")\n",
    "hostname = parser.get(\"mysql_config\", \"hostname\")\n",
    "username = parser.get(\"mysql_config\", \"username\")\n",
    "password = parser.get(\"mysql_config\", \"password\")\n",
    "dbname = parser.get(\"mysql_config\", \"database\")\n",
    "port = parser.get(\"mysql_config\", \"port\")\n",
    "\n",
    "conn = pymysql.connect(\n",
    "    host=hostname,\n",
    "    user=username,\n",
    "    password=password,\n",
    "    db=dbname,\n",
    "    port=int(port)\n",
    ")\n",
    "\n",
    "if conn is None:\n",
    "    print(\"Error. Connection to MySQL cannot be established.\")\n",
    "else:\n",
    "    print(\"Successfully connected to MySQL.\")\n",
    "\n",
    "cur = conn.cursor()"
   ]
  },
  {
   "cell_type": "code",
   "execution_count": 8,
   "id": "175cc57c",
   "metadata": {},
   "outputs": [],
   "source": [
    "create_table = \"\"\"\n",
    "CREATE TABLE IF NOT EXISTS movies_raw.production_companies (\n",
    "    production_company_name VARCHAR(255), \n",
    "    production_company_id INT,\n",
    "    movie_id INT,\n",
    "    ingestion_ts TIMESTAMP\n",
    ");\n",
    "\"\"\"\n",
    "\n",
    "insert_query = \"\"\"\n",
    "INSERT INTO movies_raw.production_companies (production_company_name, production_company_id, movie_id, ingestion_ts)\n",
    "VALUES (%s, %s, %s, %s);\n",
    "\"\"\""
   ]
  },
  {
   "cell_type": "code",
   "execution_count": 9,
   "id": "c463e0ef",
   "metadata": {},
   "outputs": [
    {
     "data": {
      "text/plain": [
       "0"
      ]
     },
     "execution_count": 9,
     "metadata": {},
     "output_type": "execute_result"
    }
   ],
   "source": [
    "cur.execute(create_table)"
   ]
  },
  {
   "cell_type": "code",
   "execution_count": 10,
   "id": "7a441179",
   "metadata": {},
   "outputs": [],
   "source": [
    "# Wstawienie danych do tabeli\n",
    "cur.executemany(insert_query, production_companies_to_insert)\n",
    "\n",
    "# Zatwierdzenie zmian w bazie danych\n",
    "conn.commit()\n",
    "\n",
    "# Zamknięcie kursora i połączenia\n",
    "cur.close()\n",
    "conn.close()"
   ]
  }
 ],
 "metadata": {
  "kernelspec": {
   "display_name": "Python 3 (ipykernel)",
   "language": "python",
   "name": "python3"
  },
  "language_info": {
   "codemirror_mode": {
    "name": "ipython",
    "version": 3
   },
   "file_extension": ".py",
   "mimetype": "text/x-python",
   "name": "python",
   "nbconvert_exporter": "python",
   "pygments_lexer": "ipython3",
   "version": "3.8.19"
  }
 },
 "nbformat": 4,
 "nbformat_minor": 5
}
